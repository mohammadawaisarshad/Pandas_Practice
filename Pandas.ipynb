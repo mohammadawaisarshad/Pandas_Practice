{
  "nbformat": 4,
  "nbformat_minor": 0,
  "metadata": {
    "colab": {
      "provenance": [],
      "authorship_tag": "ABX9TyN6CViaPrhQOFdkhTZy/PCu",
      "include_colab_link": true
    },
    "kernelspec": {
      "name": "python3",
      "display_name": "Python 3"
    },
    "language_info": {
      "name": "python"
    }
  },
  "cells": [
    {
      "cell_type": "markdown",
      "metadata": {
        "id": "view-in-github",
        "colab_type": "text"
      },
      "source": [
        "<a href=\"https://colab.research.google.com/github/mohammadawaisarshad/Pandas_Practice/blob/main/Pandas.ipynb\" target=\"_parent\"><img src=\"https://colab.research.google.com/assets/colab-badge.svg\" alt=\"Open In Colab\"/></a>"
      ]
    },
    {
      "cell_type": "code",
      "execution_count": null,
      "metadata": {
        "colab": {
          "base_uri": "https://localhost:8080/"
        },
        "id": "KxfMO1db9K5h",
        "outputId": "b2a2ce53-9be6-430e-b369-526bcd36935a"
      },
      "outputs": [
        {
          "output_type": "stream",
          "name": "stdout",
          "text": [
            "First Two Rows\n",
            "   Name  Age Grade\n",
            "0  John   14     A\n",
            "1  Jane   15     B\n",
            "\n",
            "Last Two Rows\n",
            "    Name  Age Grade\n",
            "2    Bob   14     C\n",
            "3  Alice   16     B\n",
            "\n",
            "Name and Grade\n",
            "    Name Grade\n",
            "0   John     A\n",
            "1   Jane     B\n",
            "2    Bob     C\n",
            "3  Alice     B\n"
          ]
        }
      ],
      "source": [
        "import pandas as pd\n",
        "data={\n",
        "    'Name':['John','Jane','Bob','Alice'],\n",
        "    'Age':[14,15,14],\n",
        "    'Grade':['A','B','C','B']}\n",
        "\n",
        "df=pd.DataFrame(data)\n",
        "# Display the first two rows\n",
        "print(\"First Two Rows\")\n",
        "print(df.head(2))\n",
        "# Display the last two rows\n",
        "print(\"\\nLast Two Rows\")\n",
        "print(df.tail(2))\n",
        "# Display the 'Name' and 'Grade' columns\n",
        "print(\"\\nName and Grade\")\n",
        "print(df[['Name','Grade']])\n",
        "# Save the DataFrame to a CSV file\n",
        "df.to_csv('data.csv')\n"
      ]
    },
    {
      "cell_type": "code",
      "source": [
        "print(df.iloc[3])"
      ],
      "metadata": {
        "colab": {
          "base_uri": "https://localhost:8080/"
        },
        "id": "YJ2fWVZQ-E35",
        "outputId": "c6adff66-f327-48f5-f25b-c6423255a369"
      },
      "execution_count": null,
      "outputs": [
        {
          "output_type": "stream",
          "name": "stdout",
          "text": [
            "Name     Alice\n",
            "Age         16\n",
            "Grade        B\n",
            "Name: 3, dtype: object\n"
          ]
        }
      ]
    },
    {
      "cell_type": "code",
      "source": [
        "import pandas as pd\n",
        "data={\n",
        "    'Employee_ID':[101,102,103,104],\n",
        "    'Name':['John','Jane','Mike','Alice'],\n",
        "    'Department':['HR','IT','Finance','IT'],\n",
        "    'Salary':[50000,60000,55000,65000]}\n",
        "df=pd.DataFrame(data)\n",
        "# 1. Filter and display all employees who work in the \"IT\" department\n",
        "it_dep=df[df['Department']=='IT']\n",
        "print(\"IT Department Employees\")\n",
        "print(it_dep)\n",
        "# 2. Calculate and print the average salary of the employees\n",
        "print(\"Average Salary of Employees\")\n",
        "print(df['Salary'].mean())\n"
      ],
      "metadata": {
        "colab": {
          "base_uri": "https://localhost:8080/"
        },
        "id": "pvojJ7FE_E-X",
        "outputId": "69f8ce89-1179-4b88-9bb6-a88594e538e4"
      },
      "execution_count": null,
      "outputs": [
        {
          "output_type": "stream",
          "name": "stdout",
          "text": [
            "IT Department Employees\n",
            "   Employee_ID   Name Department  Salary\n",
            "1          102   Jane         IT   60000\n",
            "3          104  Alice         IT   65000\n",
            "Average Salary of Employees\n",
            "57500.0\n"
          ]
        }
      ]
    },
    {
      "cell_type": "code",
      "source": [
        "import pandas as pd\n",
        "data={\n",
        "    'ProductID':[1,2,3,4],\n",
        "    'ProductName':['Laptop','SmartPhone','Table','Chair'],\n",
        "    'Catagory':['Electronics','Electronics','Funiture','Furniture'],\n",
        "    'Price':[800,600,150,100]\n",
        "    }\n",
        "\n",
        "df=pd.DataFrame(data)\n",
        "\n",
        "#1. Find and display all products with a price greater than 500\n",
        "print(\"Products more than 500 prices\")\n",
        "price=df[df['Price']>500]\n",
        "print(price)\n",
        "\n",
        "# 2. Add a new column 'DiscountedPrice' with a 10% discount\n",
        "df['DiscountedPrice'] = df['Price'] * 0.9\n",
        "print(\"\\nProducts with DiscountedPrice:\")\n",
        "print(df)\n"
      ],
      "metadata": {
        "colab": {
          "base_uri": "https://localhost:8080/"
        },
        "id": "x8qodoGF_0m2",
        "outputId": "cf7808cb-61ab-44d0-9c2b-5d553a472c2f"
      },
      "execution_count": null,
      "outputs": [
        {
          "output_type": "stream",
          "name": "stdout",
          "text": [
            "Products more than 500 prices\n",
            "   ProductID ProductName     Catagory  Price\n",
            "0          1      Laptop  Electronics    800\n",
            "1          2  SmartPhone  Electronics    600\n",
            "\n",
            "Products with DiscountedPrice:\n",
            "   ProductID ProductName     Catagory  Price  DiscountedPrice\n",
            "0          1      Laptop  Electronics    800            720.0\n",
            "1          2  SmartPhone  Electronics    600            540.0\n",
            "2          3       Table     Funiture    150            135.0\n",
            "3          4       Chair    Furniture    100             90.0\n"
          ]
        }
      ]
    },
    {
      "cell_type": "code",
      "source": [
        "import pandas as pd\n",
        "data={\n",
        "    'TransactionID':[1,2,3,4],\n",
        "    'Date':['2024-01-01','2024-01-02','2024-01-03','2024-01-04'],\n",
        "    'Product':['laptop','SmartPhone','Laptop','Tablet'],\n",
        "    'Quantity':[2,3,1,5],\n",
        "    'Price':[800,600,800,300]\n",
        "    }\n",
        "\n",
        "df=pd.DataFrame(data)\n",
        "#Add new column of TotalSales\n",
        "df['TotalSale']=df['Quantity']*df['Price']\n",
        "print(df)\n",
        "\n",
        "#Transaction more tham 1500 of TotalSale\n",
        "sale=df[df['TotalSale']>1500]\n",
        "print(\"\\nTransaction more than 1500\")\n",
        "print(sale)"
      ],
      "metadata": {
        "colab": {
          "base_uri": "https://localhost:8080/"
        },
        "id": "ujNZ6l7KIKfx",
        "outputId": "169efcc2-ffcd-421b-d008-587c4e077bbf"
      },
      "execution_count": null,
      "outputs": [
        {
          "output_type": "stream",
          "name": "stdout",
          "text": [
            "   TransactionID        Date     Product  Quantity  Price  TotalSale\n",
            "0              1  2024-01-01      laptop         2    800       1600\n",
            "1              2  2024-01-02  SmartPhone         3    600       1800\n",
            "2              3  2024-01-03      Laptop         1    800        800\n",
            "3              4  2024-01-04      Tablet         5    300       1500\n",
            "\n",
            "Transaction more than 1500\n",
            "   TransactionID        Date     Product  Quantity  Price  TotalSale\n",
            "0              1  2024-01-01      laptop         2    800       1600\n",
            "1              2  2024-01-02  SmartPhone         3    600       1800\n"
          ]
        }
      ]
    },
    {
      "cell_type": "code",
      "source": [
        "import pandas as pd\n",
        "data={\n",
        "    'StudentID':[1,2,3,4],\n",
        "    'Name':['John', 'Jane', 'Bob', 'Alice'],\n",
        "    'Math':[85, 90, 70, 95],\n",
        "    'English':[78, 88, 95, 89],\n",
        "    'Science':[92, 85, 78, 90]\n",
        "    }\n",
        "\n",
        "df=pd.DataFrame(data)\n",
        "#Add new Column of TotalScore\n",
        "df['TotalScore']=df['Math']+df['English']+df['Science']\n",
        "print(\"TotalScore\")\n",
        "print(df)\n",
        "\n",
        "#Highest Score find\n",
        "print(\"Highest Score Student\")\n",
        "print(df[df['TotalScore']==df['TotalScore'].max()])"
      ],
      "metadata": {
        "colab": {
          "base_uri": "https://localhost:8080/"
        },
        "id": "atSRVdImM2jB",
        "outputId": "d6b5842e-e0ab-4f2d-cadb-fe02ad38674f"
      },
      "execution_count": null,
      "outputs": [
        {
          "output_type": "stream",
          "name": "stdout",
          "text": [
            "TotalScore\n",
            "   StudentID   Name  Math  English  Science  TotalScore\n",
            "0          1   John    85       78       92         255\n",
            "1          2   Jane    90       88       85         263\n",
            "2          3    Bob    70       95       78         243\n",
            "3          4  Alice    95       89       90         274\n",
            "Highest Score Student\n",
            "   StudentID   Name  Math  English  Science  TotalScore\n",
            "3          4  Alice    95       89       90         274\n"
          ]
        }
      ]
    },
    {
      "cell_type": "code",
      "source": [
        "import pandas as pd\n",
        "\n",
        "# Creating the DataFrame\n",
        "data = {\n",
        "    'OrderID': [1, 2, 3, 4, 5],\n",
        "    'CustomerID': [101, 102, 101, 103, 104],\n",
        "    'OrderDate': ['2024-01-01', '2024-01-02', '2024-01-03', '2024-01-04', '2024-01-05'],\n",
        "    'Product': ['Laptop', 'Smartphone', 'Tablet', 'Laptop', 'Smartphone'],\n",
        "    'Quantity': [2, 3, 5, 1, 2],\n",
        "    'UnitPrice': [800, 600, 300, 800, 600]\n",
        "}\n",
        "\n",
        "order_data = pd.DataFrame(data)\n",
        "order_data['TotalPrice']=order_data['Quantity']*order_data['UnitPrice']\n",
        "\n",
        "order_data.groupby('CustomerID')['TotalPrice'].sum()\n",
        "print(\"Spend\")\n",
        "print(order_data)\n",
        "high_spent=order_data['TotalPrice'].max()\n",
        "print(high_spent)"
      ],
      "metadata": {
        "colab": {
          "base_uri": "https://localhost:8080/"
        },
        "id": "2UQXucaQOwgF",
        "outputId": "64d6f680-c26c-42f4-d819-c77a8837e1c8"
      },
      "execution_count": null,
      "outputs": [
        {
          "output_type": "stream",
          "name": "stdout",
          "text": [
            "Spend\n",
            "   OrderID  CustomerID   OrderDate     Product  Quantity  UnitPrice  \\\n",
            "0        1         101  2024-01-01      Laptop         2        800   \n",
            "1        2         102  2024-01-02  Smartphone         3        600   \n",
            "2        3         101  2024-01-03      Tablet         5        300   \n",
            "3        4         103  2024-01-04      Laptop         1        800   \n",
            "4        5         104  2024-01-05  Smartphone         2        600   \n",
            "\n",
            "   TotalPrice  \n",
            "0        1600  \n",
            "1        1800  \n",
            "2        1500  \n",
            "3         800  \n",
            "4        1200  \n",
            "1800\n"
          ]
        }
      ]
    },
    {
      "cell_type": "code",
      "source": [],
      "metadata": {
        "id": "5jGCS20AQks7"
      },
      "execution_count": null,
      "outputs": []
    }
  ]
}